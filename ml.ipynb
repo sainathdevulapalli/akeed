{
 "cells": [
  {
   "cell_type": "code",
   "execution_count": 62,
   "metadata": {},
   "outputs": [],
   "source": [
    "import pandas as pd\n",
    "import numpy as np\n",
    "from matplotlib import pyplot as plt"
   ]
  },
  {
   "cell_type": "code",
   "execution_count": 63,
   "metadata": {},
   "outputs": [
    {
     "data": {
      "text/html": [
       "<div>\n",
       "<style scoped>\n",
       "    .dataframe tbody tr th:only-of-type {\n",
       "        vertical-align: middle;\n",
       "    }\n",
       "\n",
       "    .dataframe tbody tr th {\n",
       "        vertical-align: top;\n",
       "    }\n",
       "\n",
       "    .dataframe thead th {\n",
       "        text-align: right;\n",
       "    }\n",
       "</style>\n",
       "<table border=\"1\" class=\"dataframe\">\n",
       "  <thead>\n",
       "    <tr style=\"text-align: right;\">\n",
       "      <th></th>\n",
       "      <th>customer_id</th>\n",
       "      <th>vendor_id</th>\n",
       "      <th>LOCATION_NUMBER</th>\n",
       "      <th>CID X LOC_NUM X VENDOR</th>\n",
       "      <th>Customer_label</th>\n",
       "      <th>c_l</th>\n",
       "      <th>c_latitude</th>\n",
       "      <th>c_longitude</th>\n",
       "      <th>v_latitude</th>\n",
       "      <th>v_longitude</th>\n",
       "      <th>v_rating</th>\n",
       "      <th>v_serving_distance</th>\n",
       "    </tr>\n",
       "  </thead>\n",
       "  <tbody>\n",
       "    <tr>\n",
       "      <th>0</th>\n",
       "      <td>000THBA</td>\n",
       "      <td>148</td>\n",
       "      <td>0</td>\n",
       "      <td>000THBA X 0 X 148</td>\n",
       "      <td>0</td>\n",
       "      <td>000THBA_0</td>\n",
       "      <td>-0.020250</td>\n",
       "      <td>0.167026</td>\n",
       "      <td>-0.482865</td>\n",
       "      <td>0.075989</td>\n",
       "      <td>4.1</td>\n",
       "      <td>15.0</td>\n",
       "    </tr>\n",
       "    <tr>\n",
       "      <th>1</th>\n",
       "      <td>002510Y</td>\n",
       "      <td>157</td>\n",
       "      <td>0</td>\n",
       "      <td>002510Y X 0 X 157</td>\n",
       "      <td>1</td>\n",
       "      <td>002510Y_0</td>\n",
       "      <td>0.056822</td>\n",
       "      <td>-78.597624</td>\n",
       "      <td>0.055885</td>\n",
       "      <td>0.533995</td>\n",
       "      <td>4.3</td>\n",
       "      <td>15.0</td>\n",
       "    </tr>\n",
       "    <tr>\n",
       "      <th>2</th>\n",
       "      <td>005ECL6</td>\n",
       "      <td>237</td>\n",
       "      <td>0</td>\n",
       "      <td>005ECL6 X 0 X 237</td>\n",
       "      <td>2</td>\n",
       "      <td>005ECL6_0</td>\n",
       "      <td>-0.315825</td>\n",
       "      <td>0.158935</td>\n",
       "      <td>-0.943419</td>\n",
       "      <td>0.081702</td>\n",
       "      <td>4.6</td>\n",
       "      <td>15.0</td>\n",
       "    </tr>\n",
       "    <tr>\n",
       "      <th>3</th>\n",
       "      <td>005ECL6</td>\n",
       "      <td>237</td>\n",
       "      <td>0</td>\n",
       "      <td>005ECL6 X 0 X 237</td>\n",
       "      <td>2</td>\n",
       "      <td>005ECL6_0</td>\n",
       "      <td>-0.315825</td>\n",
       "      <td>0.158935</td>\n",
       "      <td>-0.943419</td>\n",
       "      <td>0.081702</td>\n",
       "      <td>4.6</td>\n",
       "      <td>15.0</td>\n",
       "    </tr>\n",
       "    <tr>\n",
       "      <th>4</th>\n",
       "      <td>0075AM7</td>\n",
       "      <td>145</td>\n",
       "      <td>0</td>\n",
       "      <td>0075AM7 X 0 X 145</td>\n",
       "      <td>3</td>\n",
       "      <td>0075AM7_0</td>\n",
       "      <td>0.080774</td>\n",
       "      <td>-0.012308</td>\n",
       "      <td>-0.605892</td>\n",
       "      <td>0.072953</td>\n",
       "      <td>3.2</td>\n",
       "      <td>15.0</td>\n",
       "    </tr>\n",
       "  </tbody>\n",
       "</table>\n",
       "</div>"
      ],
      "text/plain": [
       "  customer_id  vendor_id  LOCATION_NUMBER CID X LOC_NUM X VENDOR  \\\n",
       "0     000THBA        148                0      000THBA X 0 X 148   \n",
       "1     002510Y        157                0      002510Y X 0 X 157   \n",
       "2     005ECL6        237                0      005ECL6 X 0 X 237   \n",
       "3     005ECL6        237                0      005ECL6 X 0 X 237   \n",
       "4     0075AM7        145                0      0075AM7 X 0 X 145   \n",
       "\n",
       "   Customer_label        c_l  c_latitude  c_longitude  v_latitude  \\\n",
       "0               0  000THBA_0   -0.020250     0.167026   -0.482865   \n",
       "1               1  002510Y_0    0.056822   -78.597624    0.055885   \n",
       "2               2  005ECL6_0   -0.315825     0.158935   -0.943419   \n",
       "3               2  005ECL6_0   -0.315825     0.158935   -0.943419   \n",
       "4               3  0075AM7_0    0.080774    -0.012308   -0.605892   \n",
       "\n",
       "   v_longitude  v_rating  v_serving_distance  \n",
       "0     0.075989       4.1                15.0  \n",
       "1     0.533995       4.3                15.0  \n",
       "2     0.081702       4.6                15.0  \n",
       "3     0.081702       4.6                15.0  \n",
       "4     0.072953       3.2                15.0  "
      ]
     },
     "execution_count": 63,
     "metadata": {},
     "output_type": "execute_result"
    }
   ],
   "source": [
    "train_df = pd.read_csv('train_final_1.csv')\n",
    "train_df.head(5)"
   ]
  },
  {
   "cell_type": "code",
   "execution_count": 64,
   "metadata": {},
   "outputs": [
    {
     "data": {
      "text/plain": [
       "customer_id               0\n",
       "vendor_id                 0\n",
       "LOCATION_NUMBER           0\n",
       "CID X LOC_NUM X VENDOR    0\n",
       "Customer_label            0\n",
       "c_l                       0\n",
       "c_latitude                0\n",
       "c_longitude               0\n",
       "v_latitude                0\n",
       "v_longitude               0\n",
       "v_rating                  0\n",
       "v_serving_distance        0\n",
       "dtype: int64"
      ]
     },
     "execution_count": 64,
     "metadata": {},
     "output_type": "execute_result"
    }
   ],
   "source": [
    "train_df.isna().sum()"
   ]
  },
  {
   "cell_type": "code",
   "execution_count": 65,
   "metadata": {},
   "outputs": [
    {
     "data": {
      "text/plain": [
       "array([196, 195,  13, ..., 105, 459,  84], dtype=int64)"
      ]
     },
     "execution_count": 65,
     "metadata": {},
     "output_type": "execute_result"
    }
   ],
   "source": [
    "from sklearn.ensemble import RandomForestClassifier\n",
    "from sklearn.model_selection import train_test_split\n",
    "from sklearn.metrics import mean_absolute_error\n",
    "\n",
    "y = train_df.vendor_id\n",
    "features = ['c_latitude', 'c_longitude']\n",
    "X = train_df[features]\n",
    "\n",
    "train_X, val_X, train_y, val_y = train_test_split(X,y, random_state=0)\n",
    "\n",
    "model = RandomForestClassifier()\n",
    "model.fit(train_X, train_y)\n",
    "prediction = model.predict(val_X)\n",
    "\n",
    "prediction"
   ]
  },
  {
   "cell_type": "code",
   "execution_count": 66,
   "metadata": {},
   "outputs": [
    {
     "name": "stdout",
     "output_type": "stream",
     "text": [
      "0.35760532150776053 131.40875092387287\n"
     ]
    }
   ],
   "source": [
    "score = model.score(val_X, val_y)\n",
    "mae = mean_absolute_error(val_y, prediction)\n",
    "print(score, mae)"
   ]
  },
  {
   "cell_type": "code",
   "execution_count": 67,
   "metadata": {},
   "outputs": [
    {
     "data": {
      "text/html": [
       "<div>\n",
       "<style scoped>\n",
       "    .dataframe tbody tr th:only-of-type {\n",
       "        vertical-align: middle;\n",
       "    }\n",
       "\n",
       "    .dataframe tbody tr th {\n",
       "        vertical-align: top;\n",
       "    }\n",
       "\n",
       "    .dataframe thead th {\n",
       "        text-align: right;\n",
       "    }\n",
       "</style>\n",
       "<table border=\"1\" class=\"dataframe\">\n",
       "  <thead>\n",
       "    <tr style=\"text-align: right;\">\n",
       "      <th></th>\n",
       "      <th>prediction</th>\n",
       "    </tr>\n",
       "  </thead>\n",
       "  <tbody>\n",
       "    <tr>\n",
       "      <th>0</th>\n",
       "      <td>196</td>\n",
       "    </tr>\n",
       "    <tr>\n",
       "      <th>1</th>\n",
       "      <td>195</td>\n",
       "    </tr>\n",
       "    <tr>\n",
       "      <th>2</th>\n",
       "      <td>13</td>\n",
       "    </tr>\n",
       "    <tr>\n",
       "      <th>3</th>\n",
       "      <td>83</td>\n",
       "    </tr>\n",
       "    <tr>\n",
       "      <th>4</th>\n",
       "      <td>113</td>\n",
       "    </tr>\n",
       "    <tr>\n",
       "      <th>...</th>\n",
       "      <td>...</td>\n",
       "    </tr>\n",
       "    <tr>\n",
       "      <th>33820</th>\n",
       "      <td>149</td>\n",
       "    </tr>\n",
       "    <tr>\n",
       "      <th>33821</th>\n",
       "      <td>583</td>\n",
       "    </tr>\n",
       "    <tr>\n",
       "      <th>33822</th>\n",
       "      <td>105</td>\n",
       "    </tr>\n",
       "    <tr>\n",
       "      <th>33823</th>\n",
       "      <td>459</td>\n",
       "    </tr>\n",
       "    <tr>\n",
       "      <th>33824</th>\n",
       "      <td>84</td>\n",
       "    </tr>\n",
       "  </tbody>\n",
       "</table>\n",
       "<p>33825 rows × 1 columns</p>\n",
       "</div>"
      ],
      "text/plain": [
       "       prediction\n",
       "0             196\n",
       "1             195\n",
       "2              13\n",
       "3              83\n",
       "4             113\n",
       "...           ...\n",
       "33820         149\n",
       "33821         583\n",
       "33822         105\n",
       "33823         459\n",
       "33824          84\n",
       "\n",
       "[33825 rows x 1 columns]"
      ]
     },
     "execution_count": 67,
     "metadata": {},
     "output_type": "execute_result"
    }
   ],
   "source": [
    "prediction_df = pd.DataFrame(data=prediction, columns=['prediction'])\n",
    "prediction_df"
   ]
  },
  {
   "cell_type": "code",
   "execution_count": 69,
   "metadata": {},
   "outputs": [
    {
     "data": {
      "text/html": [
       "<div>\n",
       "<style scoped>\n",
       "    .dataframe tbody tr th:only-of-type {\n",
       "        vertical-align: middle;\n",
       "    }\n",
       "\n",
       "    .dataframe tbody tr th {\n",
       "        vertical-align: top;\n",
       "    }\n",
       "\n",
       "    .dataframe thead th {\n",
       "        text-align: right;\n",
       "    }\n",
       "</style>\n",
       "<table border=\"1\" class=\"dataframe\">\n",
       "  <thead>\n",
       "    <tr style=\"text-align: right;\">\n",
       "      <th></th>\n",
       "      <th>CID_X_LOC_NUM_X_VENDOR</th>\n",
       "      <th>target</th>\n",
       "      <th>vendor_id</th>\n",
       "      <th>c_l</th>\n",
       "      <th>c_latitude</th>\n",
       "      <th>c_longitude</th>\n",
       "    </tr>\n",
       "  </thead>\n",
       "  <tbody>\n",
       "    <tr>\n",
       "      <th>0</th>\n",
       "      <td>Z59FTQD X 0 X 243</td>\n",
       "      <td>0</td>\n",
       "      <td>243</td>\n",
       "      <td>Z59FTQD_0</td>\n",
       "      <td>126.032278</td>\n",
       "      <td>-9.106019</td>\n",
       "    </tr>\n",
       "    <tr>\n",
       "      <th>1</th>\n",
       "      <td>0JP29SK X 0 X 243</td>\n",
       "      <td>0</td>\n",
       "      <td>243</td>\n",
       "      <td>0JP29SK_0</td>\n",
       "      <td>0.278709</td>\n",
       "      <td>-78.623847</td>\n",
       "    </tr>\n",
       "    <tr>\n",
       "      <th>2</th>\n",
       "      <td>0JP29SK X 1 X 243</td>\n",
       "      <td>0</td>\n",
       "      <td>243</td>\n",
       "      <td>0JP29SK_1</td>\n",
       "      <td>0.124485</td>\n",
       "      <td>-78.605621</td>\n",
       "    </tr>\n",
       "    <tr>\n",
       "      <th>3</th>\n",
       "      <td>0JP29SK X 2 X 243</td>\n",
       "      <td>0</td>\n",
       "      <td>243</td>\n",
       "      <td>0JP29SK_2</td>\n",
       "      <td>-0.113891</td>\n",
       "      <td>-78.577449</td>\n",
       "    </tr>\n",
       "    <tr>\n",
       "      <th>4</th>\n",
       "      <td>0JP29SK X 3 X 243</td>\n",
       "      <td>0</td>\n",
       "      <td>243</td>\n",
       "      <td>0JP29SK_3</td>\n",
       "      <td>-0.848796</td>\n",
       "      <td>0.136726</td>\n",
       "    </tr>\n",
       "  </tbody>\n",
       "</table>\n",
       "</div>"
      ],
      "text/plain": [
       "  CID_X_LOC_NUM_X_VENDOR  target vendor_id        c_l  c_latitude  c_longitude\n",
       "0      Z59FTQD X 0 X 243       0       243  Z59FTQD_0  126.032278    -9.106019\n",
       "1      0JP29SK X 0 X 243       0       243  0JP29SK_0    0.278709   -78.623847\n",
       "2      0JP29SK X 1 X 243       0       243  0JP29SK_1    0.124485   -78.605621\n",
       "3      0JP29SK X 2 X 243       0       243  0JP29SK_2   -0.113891   -78.577449\n",
       "4      0JP29SK X 3 X 243       0       243  0JP29SK_3   -0.848796     0.136726"
      ]
     },
     "execution_count": 69,
     "metadata": {},
     "output_type": "execute_result"
    }
   ],
   "source": [
    "final_sub = pd.read_csv('final_sub.csv')\n",
    "final_sub = final_sub.drop(['customer_id', 'location_number'], axis = 1)\n",
    "final_sub = final_sub.dropna()\n",
    "final_sub = final_sub.reset_index(drop=True)\n",
    "final_sub.head(5)"
   ]
  },
  {
   "cell_type": "code",
   "execution_count": 70,
   "metadata": {},
   "outputs": [
    {
     "data": {
      "text/plain": [
       "(1372500, 6)"
      ]
     },
     "execution_count": 70,
     "metadata": {},
     "output_type": "execute_result"
    }
   ],
   "source": [
    "final_sub.shape"
   ]
  },
  {
   "cell_type": "code",
   "execution_count": 71,
   "metadata": {},
   "outputs": [
    {
     "data": {
      "text/html": [
       "<div>\n",
       "<style scoped>\n",
       "    .dataframe tbody tr th:only-of-type {\n",
       "        vertical-align: middle;\n",
       "    }\n",
       "\n",
       "    .dataframe tbody tr th {\n",
       "        vertical-align: top;\n",
       "    }\n",
       "\n",
       "    .dataframe thead th {\n",
       "        text-align: right;\n",
       "    }\n",
       "</style>\n",
       "<table border=\"1\" class=\"dataframe\">\n",
       "  <thead>\n",
       "    <tr style=\"text-align: right;\">\n",
       "      <th></th>\n",
       "      <th>c_latitude</th>\n",
       "      <th>c_longitude</th>\n",
       "    </tr>\n",
       "  </thead>\n",
       "  <tbody>\n",
       "    <tr>\n",
       "      <th>0</th>\n",
       "      <td>126.032278</td>\n",
       "      <td>-9.106019</td>\n",
       "    </tr>\n",
       "    <tr>\n",
       "      <th>1</th>\n",
       "      <td>0.278709</td>\n",
       "      <td>-78.623847</td>\n",
       "    </tr>\n",
       "    <tr>\n",
       "      <th>2</th>\n",
       "      <td>0.124485</td>\n",
       "      <td>-78.605621</td>\n",
       "    </tr>\n",
       "    <tr>\n",
       "      <th>3</th>\n",
       "      <td>-0.113891</td>\n",
       "      <td>-78.577449</td>\n",
       "    </tr>\n",
       "    <tr>\n",
       "      <th>4</th>\n",
       "      <td>-0.848796</td>\n",
       "      <td>0.136726</td>\n",
       "    </tr>\n",
       "  </tbody>\n",
       "</table>\n",
       "</div>"
      ],
      "text/plain": [
       "   c_latitude  c_longitude\n",
       "0  126.032278    -9.106019\n",
       "1    0.278709   -78.623847\n",
       "2    0.124485   -78.605621\n",
       "3   -0.113891   -78.577449\n",
       "4   -0.848796     0.136726"
      ]
     },
     "execution_count": 71,
     "metadata": {},
     "output_type": "execute_result"
    }
   ],
   "source": [
    "sub_f = final_sub.drop(['CID_X_LOC_NUM_X_VENDOR', 'target', 'vendor_id', 'c_l'], axis = 1)\n",
    "sub_f.head(5)"
   ]
  },
  {
   "cell_type": "code",
   "execution_count": 72,
   "metadata": {},
   "outputs": [
    {
     "data": {
      "text/html": [
       "<div>\n",
       "<style scoped>\n",
       "    .dataframe tbody tr th:only-of-type {\n",
       "        vertical-align: middle;\n",
       "    }\n",
       "\n",
       "    .dataframe tbody tr th {\n",
       "        vertical-align: top;\n",
       "    }\n",
       "\n",
       "    .dataframe thead th {\n",
       "        text-align: right;\n",
       "    }\n",
       "</style>\n",
       "<table border=\"1\" class=\"dataframe\">\n",
       "  <thead>\n",
       "    <tr style=\"text-align: right;\">\n",
       "      <th></th>\n",
       "      <th>prediction</th>\n",
       "    </tr>\n",
       "  </thead>\n",
       "  <tbody>\n",
       "    <tr>\n",
       "      <th>0</th>\n",
       "      <td>294</td>\n",
       "    </tr>\n",
       "    <tr>\n",
       "      <th>1</th>\n",
       "      <td>82</td>\n",
       "    </tr>\n",
       "    <tr>\n",
       "      <th>2</th>\n",
       "      <td>113</td>\n",
       "    </tr>\n",
       "    <tr>\n",
       "      <th>3</th>\n",
       "      <td>90</td>\n",
       "    </tr>\n",
       "    <tr>\n",
       "      <th>4</th>\n",
       "      <td>846</td>\n",
       "    </tr>\n",
       "  </tbody>\n",
       "</table>\n",
       "</div>"
      ],
      "text/plain": [
       "   prediction\n",
       "0         294\n",
       "1          82\n",
       "2         113\n",
       "3          90\n",
       "4         846"
      ]
     },
     "execution_count": 72,
     "metadata": {},
     "output_type": "execute_result"
    }
   ],
   "source": [
    "sub_predict = model.predict(sub_f)\n",
    "sub_predict_df = pd.DataFrame(data=sub_predict, columns=['prediction'])\n",
    "sub_predict_df.head(5)"
   ]
  },
  {
   "cell_type": "code",
   "execution_count": 73,
   "metadata": {},
   "outputs": [
    {
     "data": {
      "text/plain": [
       "(1372500, 1)"
      ]
     },
     "execution_count": 73,
     "metadata": {},
     "output_type": "execute_result"
    }
   ],
   "source": [
    "sub_predict_df.shape"
   ]
  },
  {
   "cell_type": "code",
   "execution_count": 74,
   "metadata": {},
   "outputs": [
    {
     "data": {
      "text/plain": [
       "prediction    0\n",
       "dtype: int64"
      ]
     },
     "execution_count": 74,
     "metadata": {},
     "output_type": "execute_result"
    }
   ],
   "source": [
    "sub_predict_df.isna().sum()"
   ]
  },
  {
   "cell_type": "code",
   "execution_count": 75,
   "metadata": {},
   "outputs": [],
   "source": [
    "sub_predict_df.to_csv('prediction.csv', index=False)"
   ]
  }
 ],
 "metadata": {
  "kernelspec": {
   "display_name": "Python 3",
   "language": "python",
   "name": "python3"
  },
  "language_info": {
   "codemirror_mode": {
    "name": "ipython",
    "version": 3
   },
   "file_extension": ".py",
   "mimetype": "text/x-python",
   "name": "python",
   "nbconvert_exporter": "python",
   "pygments_lexer": "ipython3",
   "version": "3.7.6"
  }
 },
 "nbformat": 4,
 "nbformat_minor": 4
}
